{
 "cells": [
  {
   "cell_type": "code",
   "execution_count": 1,
   "metadata": {},
   "outputs": [],
   "source": [
    "import matplotlib.pyplot as plt\n",
    "from sklearn.model_selection import train_test_split\n",
    "from sklearn import svm\n",
    "from sklearn.metrics import accuracy_score, classification_report\n",
    "from skimage.transform import resize\n",
    "from pathlib import Path\n",
    "import numpy as np"
   ]
  },
  {
   "cell_type": "markdown",
   "metadata": {},
   "source": [
    "# Preprocessing Data"
   ]
  },
  {
   "cell_type": "code",
   "execution_count": 4,
   "metadata": {},
   "outputs": [],
   "source": [
    "# loading images\n",
    "dog_directory = Path(\"images\")\n",
    "\n",
    "breeds = []\n",
    "for breed in dog_directory.iterdir():\n",
    "    # count number of images in each breed\n",
    "    if breed.is_dir():\n",
    "        breed_count = len(list(breed.glob(\"*.jpg\")))\n",
    "        breeds.append((breed.name.split(\"-\", 1)[-1], breed_count))\n",
    "\n",
    "breeds.sort(key=lambda x: x[1], reverse=True)\n",
    "breeds = [breed[0] for breed in breeds[:10]] # only 10 breeds\n",
    "# print(breeds)"
   ]
  },
  {
   "cell_type": "code",
   "execution_count": 7,
   "metadata": {},
   "outputs": [
    {
     "name": "stdout",
     "output_type": "stream",
     "text": [
      "Loaded 0 images for silky_terrier\n",
      "Loaded 140 images for Scottish_deerhound\n",
      "Loaded 140 images for Chesapeake_Bay_retriever\n",
      "Loaded 140 images for Ibizan_hound\n",
      "Loaded 140 images for wire-haired_fox_terrier\n",
      "Loaded 140 images for Saluki\n",
      "Loaded 140 images for cocker_spaniel\n",
      "Loaded 140 images for schipperke\n",
      "Loaded 140 images for borzoi\n",
      "Loaded 140 images for Pembroke\n",
      "Loaded 140 images for komondor\n",
      "Loaded 140 images for Staffordshire_bullterrier\n",
      "Loaded 140 images for standard_poodle\n",
      "Loaded 140 images for Eskimo_dog\n",
      "Loaded 140 images for English_foxhound\n",
      "Loaded 140 images for golden_retriever\n",
      "Loaded 140 images for Sealyham_terrier\n",
      "Loaded 140 images for Japanese_spaniel\n",
      "Loaded 140 images for .DS_Store\n",
      "Loaded 140 images for miniature_schnauzer\n",
      "Loaded 140 images for malamute\n",
      "Loaded 140 images for malinois\n",
      "Loaded 140 images for Pekinese\n",
      "Loaded 140 images for giant_schnauzer\n",
      "Loaded 140 images for Mexican_hairless\n",
      "Loaded 140 images for Doberman\n",
      "Loaded 140 images for standard_schnauzer\n",
      "Loaded 140 images for dhole\n",
      "Loaded 140 images for German_shepherd\n",
      "Loaded 140 images for Bouvier_des_Flandres\n",
      "Loaded 140 images for Siberian_husky\n",
      "Loaded 140 images for Norwich_terrier\n",
      "Loaded 140 images for Irish_terrier\n",
      "Loaded 140 images for Norfolk_terrier\n",
      "Loaded 140 images for Saint_Bernard\n",
      "Loaded 140 images for Border_terrier\n",
      "Loaded 140 images for briard\n",
      "Loaded 140 images for Tibetan_mastiff\n",
      "Loaded 140 images for bull_mastiff\n",
      "Loaded 280 images for Maltese_dog\n",
      "Loaded 280 images for Kerry_blue_terrier\n",
      "Loaded 280 images for kuvasz\n",
      "Loaded 280 images for Greater_Swiss_Mountain_dog\n",
      "Loaded 280 images for Lakeland_terrier\n",
      "Loaded 280 images for Blenheim_spaniel\n",
      "Loaded 280 images for basset\n",
      "Loaded 280 images for West_Highland_white_terrier\n",
      "Loaded 280 images for Chihuahua\n",
      "Loaded 280 images for Border_collie\n",
      "Loaded 280 images for redbone\n",
      "Loaded 420 images for Irish_wolfhound\n",
      "Loaded 420 images for bluetick\n",
      "Loaded 420 images for miniature_poodle\n",
      "Loaded 420 images for Cardigan\n",
      "Loaded 420 images for EntleBucher\n",
      "Loaded 420 images for Norwegian_elkhound\n",
      "Loaded 420 images for German_short-haired_pointer\n",
      "Loaded 560 images for Bernese_mountain_dog\n",
      "Loaded 560 images for papillon\n",
      "Loaded 560 images for Tibetan_terrier\n",
      "Loaded 560 images for Gordon_setter\n",
      "Loaded 560 images for American_Staffordshire_terrier\n",
      "Loaded 560 images for vizsla\n",
      "Loaded 560 images for kelpie\n",
      "Loaded 560 images for Weimaraner\n",
      "Loaded 560 images for miniature_pinscher\n",
      "Loaded 560 images for boxer\n",
      "Loaded 560 images for chow\n",
      "Loaded 560 images for Old_English_sheepdog\n",
      "Loaded 560 images for pug\n",
      "Loaded 560 images for Rhodesian_ridgeback\n",
      "Loaded 560 images for Scotch_terrier\n",
      "Loaded 700 images for Shih-Tzu\n",
      "Loaded 700 images for affenpinscher\n",
      "Loaded 700 images for whippet\n",
      "Loaded 700 images for Sussex_spaniel\n",
      "Loaded 700 images for otterhound\n",
      "Loaded 700 images for flat-coated_retriever\n",
      "Loaded 700 images for English_setter\n",
      "Loaded 700 images for Italian_greyhound\n",
      "Loaded 700 images for Labrador_retriever\n",
      "Loaded 700 images for collie\n",
      "Loaded 700 images for cairn\n",
      "Loaded 700 images for Rottweiler\n",
      "Loaded 700 images for Australian_terrier\n",
      "Loaded 700 images for toy_terrier\n",
      "Loaded 700 images for Shetland_sheepdog\n",
      "Loaded 700 images for African_hunting_dog\n",
      "Loaded 700 images for Newfoundland\n",
      "Loaded 700 images for Walker_hound\n",
      "Loaded 700 images for Lhasa\n",
      "Loaded 700 images for beagle\n",
      "Loaded 840 images for Samoyed\n",
      "Loaded 840 images for Great_Dane\n",
      "Loaded 840 images for Airedale\n",
      "Loaded 840 images for bloodhound\n",
      "Loaded 840 images for Irish_setter\n",
      "Loaded 840 images for keeshond\n",
      "Loaded 840 images for Dandie_Dinmont\n",
      "Loaded 840 images for basenji\n",
      "Loaded 840 images for Bedlington_terrier\n",
      "Loaded 840 images for Appenzeller\n",
      "Loaded 840 images for clumber\n",
      "Loaded 840 images for toy_poodle\n",
      "Loaded 980 images for Great_Pyrenees\n",
      "Loaded 980 images for English_springer\n",
      "Loaded 1120 images for Afghan_hound\n",
      "Loaded 1120 images for Brittany_spaniel\n",
      "Loaded 1120 images for Welsh_springer_spaniel\n",
      "Loaded 1120 images for Boston_bull\n",
      "Loaded 1120 images for dingo\n",
      "Loaded 1120 images for soft-coated_wheaten_terrier\n",
      "Loaded 1120 images for curly-coated_retriever\n",
      "Loaded 1120 images for French_bulldog\n",
      "Loaded 1120 images for Irish_water_spaniel\n",
      "Loaded 1260 images for Pomeranian\n",
      "Loaded 1260 images for Brabancon_griffon\n",
      "Loaded 1260 images for Yorkshire_terrier\n",
      "Loaded 1260 images for groenendael\n",
      "Loaded 1400 images for Leonberg\n",
      "Loaded 1400 images for black-and-tan_coonhound\n",
      "X=array([[0.58001346, 0.64867269, 0.78072495, ..., 0.92848178, 0.83427475,\n",
      "        0.79501483],\n",
      "       [0.81014179, 0.89570348, 0.98972797, ..., 0.27860409, 0.26087159,\n",
      "        0.18663424],\n",
      "       [0.00278538, 0.00278538, 0.01062852, ..., 0.38237175, 0.38655561,\n",
      "        0.39970605],\n",
      "       ...,\n",
      "       [0.08449578, 0.12527084, 0.07002691, ..., 0.23653751, 0.33811788,\n",
      "        0.12969611],\n",
      "       [0.64125888, 0.49953821, 0.43249175, ..., 0.76832634, 0.72471969,\n",
      "        0.81009052],\n",
      "       [0.26299593, 0.46816304, 0.00533565, ..., 0.37067039, 0.52782923,\n",
      "        0.13031361]]), y=array([2, 2, 2, ..., 9, 9, 9])\n"
     ]
    }
   ],
   "source": [
    "# load images\n",
    "X = []\n",
    "y = []\n",
    "width, height = 128, 128 # image resolution\n",
    "\n",
    "for breed in dog_directory.iterdir():\n",
    "    breed_name = breed.name.split(\"-\", 1)[-1]\n",
    "    for i, image_path in enumerate(breed.glob(\"*.jpg\")):\n",
    "        if breed_name not in breeds:\n",
    "            continue\n",
    "        image = plt.imread(image_path)\n",
    "        image = resize(image, (width, height, 3))\n",
    "        X.append(image.flatten())\n",
    "        y.append(breeds.index(breed_name))\n",
    "        if i >= 139:  # do 140 images each\n",
    "            break\n",
    "    print(f\"Loaded {len(X)} images for {breed_name}\")\n",
    "\n",
    "# test image\n",
    "X = np.array(X)\n",
    "y = np.array(y)\n",
    "\n",
    "print(f\"{X=}, {y=}\")"
   ]
  },
  {
   "cell_type": "markdown",
   "metadata": {},
   "source": [
    "# Splitting data"
   ]
  },
  {
   "cell_type": "code",
   "execution_count": 8,
   "metadata": {},
   "outputs": [
    {
     "name": "stdout",
     "output_type": "stream",
     "text": [
      "X_train:(1209, 49152)\n",
      "y_train:(1209,)\n",
      "X_val: \t(92, 49152)\n",
      "y_val: \t(92,)\n",
      "X_test: (99, 49152)\n",
      "y_test: (99,)\n"
     ]
    }
   ],
   "source": [
    "# Split data into training and test samples\n",
    "X_train_val, X_test, y_train_val, y_test = train_test_split(\n",
    "    X, y,   \n",
    "    test_size = 0.07, random_state=10, shuffle=True\n",
    ")\n",
    "X_train, X_val, y_train, y_val = train_test_split(\n",
    "    X_train_val, y_train_val, \n",
    "    test_size = 0.07, random_state=10, shuffle=True\n",
    ")\n",
    "    \n",
    "# Check to make sure everything is as expected\n",
    "print('X_train:' + str(X_train.shape))\n",
    "print('y_train:' + str(y_train.shape))\n",
    "print('X_val: \\t'  + str(X_val.shape))\n",
    "print('y_val: \\t'  + str(y_val.shape))\n",
    "print('X_test: '  + str(X_test.shape))\n",
    "print('y_test: '  + str(y_test.shape))"
   ]
  },
  {
   "cell_type": "markdown",
   "metadata": {},
   "source": [
    "# Functions"
   ]
  },
  {
   "cell_type": "code",
   "execution_count": 16,
   "metadata": {},
   "outputs": [],
   "source": [
    "def normalize(X_train, X_val, X_test):\n",
    "    X_train = X_train/255\n",
    "    X_test = X_test/255\n",
    "    X_val = X_val/255\n",
    "    return X_train, X_val, X_test\n",
    "\n",
    "def train_model(c=-1.0, iter=100, kern=\"linear\", d=2, test_img=image):\n",
    "    t_loss, v_loss = 0, 0\n",
    "\n",
    "    if kern == \"linear\":\n",
    "        if c != -1.0:\n",
    "            model = svm.SVC(kernel=kern, c=c, decision_function_shape=\"ovo\", probability=True, max_iter=iter)\n",
    "        else:\n",
    "            model = svm.SVC(kernel=kern, decision_function_shape=\"ovo\", probability=True, max_iter=iter)\n",
    "    else:\n",
    "        model = svm.SVC(kernel=\"poly\", degree=d, decision_function_shape=\"ovo\", probability=True, max_iter=iter)\n",
    "\n",
    "    model.fit(X_train, y_train)\n",
    "    y_pred_train = model.predict(X_train)\n",
    "    t_loss = 1 - accuracy_score(y_train, y_pred_train)\n",
    "    y_pred_val = model.predict(X_val)\n",
    "    v_loss = 1 - accuracy_score(y_val, y_pred_val)\n",
    "    print(classification_report(y_test, model.predict(X_test)))\n",
    "\n",
    "    return t_loss, v_loss"
   ]
  },
  {
   "cell_type": "markdown",
   "metadata": {},
   "source": [
    "# Test"
   ]
  },
  {
   "cell_type": "code",
   "execution_count": 14,
   "metadata": {},
   "outputs": [
    {
     "name": "stderr",
     "output_type": "stream",
     "text": [
      "/Users/rileydou/Library/Python/3.9/lib/python/site-packages/sklearn/svm/_base.py:297: ConvergenceWarning: Solver terminated early (max_iter=100).  Consider pre-processing your data with StandardScaler or MinMaxScaler.\n",
      "  warnings.warn(\n"
     ]
    },
    {
     "name": "stdout",
     "output_type": "stream",
     "text": [
      "              precision    recall  f1-score   support\n",
      "\n",
      "           0       0.27      0.44      0.33         9\n",
      "           1       0.14      0.20      0.17         5\n",
      "           2       0.43      0.19      0.26        16\n",
      "           3       0.44      0.40      0.42        10\n",
      "           4       0.09      0.14      0.11         7\n",
      "           5       0.27      0.50      0.35         6\n",
      "           6       0.33      0.23      0.27        13\n",
      "           7       0.12      0.12      0.12         8\n",
      "           8       0.20      0.18      0.19        11\n",
      "           9       0.17      0.14      0.15        14\n",
      "\n",
      "    accuracy                           0.24        99\n",
      "   macro avg       0.25      0.26      0.24        99\n",
      "weighted avg       0.27      0.24      0.24        99\n",
      "\n"
     ]
    },
    {
     "name": "stderr",
     "output_type": "stream",
     "text": [
      "/Users/rileydou/Library/Python/3.9/lib/python/site-packages/sklearn/svm/_base.py:297: ConvergenceWarning: Solver terminated early (max_iter=200).  Consider pre-processing your data with StandardScaler or MinMaxScaler.\n",
      "  warnings.warn(\n"
     ]
    }
   ],
   "source": [
    "# Iterations\n",
    "t_loss, v_loss = [], []\n",
    "for iter in [100, 200]:\n",
    "    new_t, new_v = train_model(-1.0, iter)\n",
    "    t_loss.append(new_t)\n",
    "    v_loss.append(new_v)\n",
    "\n",
    "# print(t_loss, v_loss)\n",
    "fig, ax = plt.subplots()\n",
    "plt.plot(t_loss, label=\"Training Error\")\n",
    "plt.plot(v_loss, label=\"Validation Error\")\n",
    "plt.legend(loc=\"upper left\")\n",
    "ax.set_xticks(np.arange(0, 2))\n",
    "ax.set_xticklabels([\"100\", \"200\"])\n",
    "plt.title(\"Error and Number of Iterations\")\n",
    "plt.xlabel(\"Number of Iterations\")\n",
    "plt.ylabel(\"Error\")"
   ]
  },
  {
   "cell_type": "code",
   "execution_count": null,
   "metadata": {},
   "outputs": [],
   "source": [
    "# Test"
   ]
  },
  {
   "cell_type": "code",
   "execution_count": 9,
   "metadata": {},
   "outputs": [
    {
     "name": "stderr",
     "output_type": "stream",
     "text": [
      "/Users/rileydou/Library/Python/3.9/lib/python/site-packages/sklearn/svm/_base.py:297: ConvergenceWarning: Solver terminated early (max_iter=100).  Consider pre-processing your data with StandardScaler or MinMaxScaler.\n",
      "  warnings.warn(\n"
     ]
    },
    {
     "name": "stdout",
     "output_type": "stream",
     "text": [
      "              precision    recall  f1-score   support\n",
      "\n",
      "           0       0.27      0.44      0.33         9\n",
      "           1       0.14      0.20      0.17         5\n",
      "           2       0.43      0.19      0.26        16\n",
      "           3       0.44      0.40      0.42        10\n",
      "           4       0.09      0.14      0.11         7\n",
      "           5       0.27      0.50      0.35         6\n",
      "           6       0.33      0.23      0.27        13\n",
      "           7       0.12      0.12      0.12         8\n",
      "           8       0.20      0.18      0.19        11\n",
      "           9       0.17      0.14      0.15        14\n",
      "\n",
      "    accuracy                           0.24        99\n",
      "   macro avg       0.25      0.26      0.24        99\n",
      "weighted avg       0.27      0.24      0.24        99\n",
      "\n",
      "[0.14888337468982626] [0.7282608695652174]\n"
     ]
    },
    {
     "name": "stderr",
     "output_type": "stream",
     "text": [
      "/Users/rileydou/Library/Python/3.9/lib/python/site-packages/sklearn/svm/_base.py:297: ConvergenceWarning: Solver terminated early (max_iter=100).  Consider pre-processing your data with StandardScaler or MinMaxScaler.\n",
      "  warnings.warn(\n"
     ]
    },
    {
     "name": "stdout",
     "output_type": "stream",
     "text": [
      "              precision    recall  f1-score   support\n",
      "\n",
      "           0       0.25      0.33      0.29         9\n",
      "           1       0.00      0.00      0.00         5\n",
      "           2       0.46      0.38      0.41        16\n",
      "           3       0.71      0.50      0.59        10\n",
      "           4       0.09      0.14      0.11         7\n",
      "           5       0.38      0.50      0.43         6\n",
      "           6       0.17      0.08      0.11        13\n",
      "           7       0.09      0.12      0.11         8\n",
      "           8       0.18      0.18      0.18        11\n",
      "           9       0.38      0.36      0.37        14\n",
      "\n",
      "    accuracy                           0.27        99\n",
      "   macro avg       0.27      0.26      0.26        99\n",
      "weighted avg       0.30      0.27      0.28        99\n",
      "\n"
     ]
    },
    {
     "name": "stderr",
     "output_type": "stream",
     "text": [
      "/Users/rileydou/Library/Python/3.9/lib/python/site-packages/sklearn/svm/_base.py:297: ConvergenceWarning: Solver terminated early (max_iter=100).  Consider pre-processing your data with StandardScaler or MinMaxScaler.\n",
      "  warnings.warn(\n"
     ]
    },
    {
     "name": "stdout",
     "output_type": "stream",
     "text": [
      "              precision    recall  f1-score   support\n",
      "\n",
      "           0       0.22      0.22      0.22         9\n",
      "           1       0.00      0.00      0.00         5\n",
      "           2       0.40      0.38      0.39        16\n",
      "           3       0.62      0.50      0.56        10\n",
      "           4       0.07      0.14      0.10         7\n",
      "           5       0.29      0.33      0.31         6\n",
      "           6       0.29      0.31      0.30        13\n",
      "           7       0.17      0.12      0.14         8\n",
      "           8       0.25      0.27      0.26        11\n",
      "           9       0.40      0.29      0.33        14\n",
      "\n",
      "    accuracy                           0.28        99\n",
      "   macro avg       0.27      0.26      0.26        99\n",
      "weighted avg       0.31      0.28      0.29        99\n",
      "\n"
     ]
    },
    {
     "name": "stderr",
     "output_type": "stream",
     "text": [
      "/Users/rileydou/Library/Python/3.9/lib/python/site-packages/sklearn/svm/_base.py:297: ConvergenceWarning: Solver terminated early (max_iter=100).  Consider pre-processing your data with StandardScaler or MinMaxScaler.\n",
      "  warnings.warn(\n"
     ]
    },
    {
     "name": "stdout",
     "output_type": "stream",
     "text": [
      "              precision    recall  f1-score   support\n",
      "\n",
      "           0       0.25      0.22      0.24         9\n",
      "           1       0.17      0.20      0.18         5\n",
      "           2       0.50      0.38      0.43        16\n",
      "           3       0.50      0.10      0.17        10\n",
      "           4       0.08      0.14      0.10         7\n",
      "           5       0.17      0.33      0.22         6\n",
      "           6       0.29      0.15      0.20        13\n",
      "           7       0.14      0.25      0.18         8\n",
      "           8       0.22      0.36      0.28        11\n",
      "           9       0.57      0.29      0.38        14\n",
      "\n",
      "    accuracy                           0.25        99\n",
      "   macro avg       0.29      0.24      0.24        99\n",
      "weighted avg       0.33      0.25      0.26        99\n",
      "\n"
     ]
    },
    {
     "name": "stderr",
     "output_type": "stream",
     "text": [
      "/Users/rileydou/Library/Python/3.9/lib/python/site-packages/sklearn/svm/_base.py:297: ConvergenceWarning: Solver terminated early (max_iter=100).  Consider pre-processing your data with StandardScaler or MinMaxScaler.\n",
      "  warnings.warn(\n",
      "/Users/rileydou/Library/Python/3.9/lib/python/site-packages/sklearn/metrics/_classification.py:1509: UndefinedMetricWarning: Precision is ill-defined and being set to 0.0 in labels with no predicted samples. Use `zero_division` parameter to control this behavior.\n",
      "  _warn_prf(average, modifier, f\"{metric.capitalize()} is\", len(result))\n",
      "/Users/rileydou/Library/Python/3.9/lib/python/site-packages/sklearn/metrics/_classification.py:1509: UndefinedMetricWarning: Precision is ill-defined and being set to 0.0 in labels with no predicted samples. Use `zero_division` parameter to control this behavior.\n",
      "  _warn_prf(average, modifier, f\"{metric.capitalize()} is\", len(result))\n",
      "/Users/rileydou/Library/Python/3.9/lib/python/site-packages/sklearn/metrics/_classification.py:1509: UndefinedMetricWarning: Precision is ill-defined and being set to 0.0 in labels with no predicted samples. Use `zero_division` parameter to control this behavior.\n",
      "  _warn_prf(average, modifier, f\"{metric.capitalize()} is\", len(result))\n"
     ]
    },
    {
     "name": "stdout",
     "output_type": "stream",
     "text": [
      "              precision    recall  f1-score   support\n",
      "\n",
      "           0       0.14      0.11      0.12         9\n",
      "           1       0.33      0.20      0.25         5\n",
      "           2       0.29      0.38      0.32        16\n",
      "           3       0.00      0.00      0.00        10\n",
      "           4       0.10      0.14      0.12         7\n",
      "           5       0.29      0.33      0.31         6\n",
      "           6       0.33      0.23      0.27        13\n",
      "           7       0.00      0.00      0.00         8\n",
      "           8       0.28      0.45      0.34        11\n",
      "           9       0.38      0.36      0.37        14\n",
      "\n",
      "    accuracy                           0.24        99\n",
      "   macro avg       0.21      0.22      0.21        99\n",
      "weighted avg       0.23      0.24      0.23        99\n",
      "\n",
      "[0.14888337468982626, 0.13482216708023165, 0.1364764267990074, 0.13813068651778326, 0.2638544251447478] [0.7282608695652174, 0.7065217391304348, 0.7065217391304348, 0.7282608695652174, 0.7934782608695652]\n"
     ]
    },
    {
     "data": {
      "text/plain": [
       "Text(0.5, 0, 'Degree')"
      ]
     },
     "execution_count": 9,
     "metadata": {},
     "output_type": "execute_result"
    },
    {
     "data": {
      "image/png": "[encoded data removed]",
      "text/plain": [
       "<Figure size 640x480 with 1 Axes>"
      ]
     },
     "metadata": {},
     "output_type": "display_data"
    },
    {
     "data": {
      "image/png": "[encoded data removed]",
      "text/plain": [
       "<Figure size 640x480 with 1 Axes>"
      ]
     },
     "metadata": {},
     "output_type": "display_data"
    }
   ],
   "source": [
    "# Polynomial kernel (degree)\n",
    "t_d_loss, v_d_loss = [], []\n",
    "\n",
    "t_d_loss, v_d_loss = train_model()\n",
    "\n",
    "for d in [2, 3, 4, 5]:\n",
    "    new_t, new_v = train_model(c=-1.0, kern=\"poly\", iter=100, deg=d)\n",
    "    t_d_loss.append(new_t)\n",
    "    v_d_loss.append(new_v)\n",
    "    \n",
    "fig, ax = plt.subplots()\n",
    "plt.plot(t_d_loss, label=\"Training Error\")\n",
    "plt.plot(v_d_loss, label=\"Validation Error\")\n",
    "plt.legend(loc=\"upper left\")\n",
    "ax.set_xticks(np.arange(0, 5))\n",
    "ax.set_xticklabels([\"1\", \"2\", \"3\", \"4\", \"5\"])\n",
    "plt.title(\"Error and Degree\")\n",
    "plt.ylabel(\"Error\")\n",
    "plt.xlabel(\"Degree\")\n"
   ]
  },
  {
   "cell_type": "code",
   "execution_count": 28,
   "metadata": {},
   "outputs": [
    {
     "name": "stdout",
     "output_type": "stream",
     "text": [
      "              precision    recall  f1-score   support\n",
      "\n",
      "           0       0.27      0.33      0.30         9\n",
      "           1       0.07      0.20      0.10         5\n",
      "           2       0.60      0.19      0.29        16\n",
      "           3       0.67      0.40      0.50        10\n",
      "           4       0.08      0.14      0.11         7\n",
      "           5       0.20      0.33      0.25         6\n",
      "           6       0.31      0.31      0.31        13\n",
      "           7       0.22      0.25      0.24         8\n",
      "           8       0.20      0.18      0.19        11\n",
      "           9       0.38      0.21      0.27        14\n",
      "\n",
      "    accuracy                           0.25        99\n",
      "   macro avg       0.30      0.26      0.25        99\n",
      "weighted avg       0.34      0.25      0.27        99\n",
      "\n",
      "              precision    recall  f1-score   support\n",
      "\n",
      "           0       0.31      0.56      0.40         9\n",
      "           1       0.11      0.20      0.14         5\n",
      "           2       0.40      0.25      0.31        16\n",
      "           3       0.50      0.40      0.44        10\n",
      "           4       0.00      0.00      0.00         7\n",
      "           5       0.40      0.67      0.50         6\n",
      "           6       0.45      0.38      0.42        13\n",
      "           7       0.25      0.25      0.25         8\n",
      "           8       0.00      0.00      0.00        11\n",
      "           9       0.30      0.21      0.25        14\n",
      "\n",
      "    accuracy                           0.28        99\n",
      "   macro avg       0.27      0.29      0.27        99\n",
      "weighted avg       0.30      0.28      0.28        99\n",
      "\n",
      "              precision    recall  f1-score   support\n",
      "\n",
      "           0       0.20      0.22      0.21         9\n",
      "           1       0.00      0.00      0.00         5\n",
      "           2       0.33      0.25      0.29        16\n",
      "           3       0.50      0.40      0.44        10\n",
      "           4       0.00      0.00      0.00         7\n",
      "           5       0.22      0.33      0.27         6\n",
      "           6       0.38      0.23      0.29        13\n",
      "           7       0.18      0.25      0.21         8\n",
      "           8       0.20      0.18      0.19        11\n",
      "           9       0.30      0.21      0.25        14\n",
      "\n",
      "    accuracy                           0.22        99\n",
      "   macro avg       0.23      0.21      0.21        99\n",
      "weighted avg       0.26      0.22      0.24        99\n",
      "\n",
      "              precision    recall  f1-score   support\n",
      "\n",
      "           0       0.18      0.22      0.20         9\n",
      "           1       0.00      0.00      0.00         5\n",
      "           2       0.33      0.25      0.29        16\n",
      "           3       0.50      0.40      0.44        10\n",
      "           4       0.00      0.00      0.00         7\n",
      "           5       0.22      0.33      0.27         6\n",
      "           6       0.43      0.23      0.30        13\n",
      "           7       0.18      0.25      0.21         8\n",
      "           8       0.20      0.18      0.19        11\n",
      "           9       0.30      0.21      0.25        14\n",
      "\n",
      "    accuracy                           0.22        99\n",
      "   macro avg       0.23      0.21      0.21        99\n",
      "weighted avg       0.27      0.22      0.24        99\n",
      "\n",
      "              precision    recall  f1-score   support\n",
      "\n",
      "           0       0.18      0.22      0.20         9\n",
      "           1       0.00      0.00      0.00         5\n",
      "           2       0.33      0.25      0.29        16\n",
      "           3       0.50      0.40      0.44        10\n",
      "           4       0.00      0.00      0.00         7\n",
      "           5       0.22      0.33      0.27         6\n",
      "           6       0.43      0.23      0.30        13\n",
      "           7       0.18      0.25      0.21         8\n",
      "           8       0.20      0.18      0.19        11\n",
      "           9       0.30      0.21      0.25        14\n",
      "\n",
      "    accuracy                           0.22        99\n",
      "   macro avg       0.23      0.21      0.21        99\n",
      "weighted avg       0.27      0.22      0.24        99\n",
      "\n",
      "              precision    recall  f1-score   support\n",
      "\n",
      "           0       0.18      0.22      0.20         9\n",
      "           1       0.00      0.00      0.00         5\n",
      "           2       0.33      0.25      0.29        16\n",
      "           3       0.50      0.40      0.44        10\n",
      "           4       0.00      0.00      0.00         7\n",
      "           5       0.22      0.33      0.27         6\n",
      "           6       0.43      0.23      0.30        13\n",
      "           7       0.18      0.25      0.21         8\n",
      "           8       0.20      0.18      0.19        11\n",
      "           9       0.30      0.21      0.25        14\n",
      "\n",
      "    accuracy                           0.22        99\n",
      "   macro avg       0.23      0.21      0.21        99\n",
      "weighted avg       0.27      0.22      0.24        99\n",
      "\n",
      "              precision    recall  f1-score   support\n",
      "\n",
      "           0       0.18      0.22      0.20         9\n",
      "           1       0.00      0.00      0.00         5\n",
      "           2       0.33      0.25      0.29        16\n",
      "           3       0.50      0.40      0.44        10\n",
      "           4       0.00      0.00      0.00         7\n",
      "           5       0.22      0.33      0.27         6\n",
      "           6       0.43      0.23      0.30        13\n",
      "           7       0.18      0.25      0.21         8\n",
      "           8       0.20      0.18      0.19        11\n",
      "           9       0.30      0.21      0.25        14\n",
      "\n",
      "    accuracy                           0.22        99\n",
      "   macro avg       0.23      0.21      0.21        99\n",
      "weighted avg       0.27      0.22      0.24        99\n",
      "\n",
      "[0.5905707196029777, 0.19602977667493793, 0.0, 0.0, 0.0, 0.0, 0.0] [0.7173913043478262, 0.6956521739130435, 0.7282608695652174, 0.7282608695652174, 0.7282608695652174, 0.7282608695652174, 0.7282608695652174]\n"
     ]
    },
    {
     "data": {
      "text/plain": [
       "Text(0.5, 0, 'Lamba')"
      ]
     },
     "execution_count": 28,
     "metadata": {},
     "output_type": "execute_result"
    },
    {
     "data": {
      "image/png": "[encoded data removed]",
      "text/plain": [
       "<Figure size 640x480 with 1 Axes>"
      ]
     },
     "metadata": {},
     "output_type": "display_data"
    }
   ],
   "source": [
    "t_r_loss = []\n",
    "v_r_loss = []\n",
    "for c in [0.0001, 0.001]:\n",
    "    new_t, new_v = train_model(c)\n",
    "    t_r_loss.append(new_t)\n",
    "    v_r_loss.append(new_v)\n",
    "\n",
    "fig, ax = plt.subplots()\n",
    "plt.plot(t_r_loss, label=\"Training Error\")\n",
    "plt.plot(v_r_loss, label=\"Validation Error\")\n",
    "plt.legend(loc=\"upper left\")\n",
    "ax.set_xticks(np.arange(0, 6))\n",
    "ax.set_xticklabels([\"0.0001\", \"0.001\", \"0.01\", \"0.1\", \"10\", \"100\"])\n",
    "plt.title(\"Error and Lambda\")\n",
    "plt.ylabel(\"Error\")\n",
    "plt.xlabel(\"Lamba\")"
   ]
  },
  {
   "cell_type": "code",
   "execution_count": 8,
   "metadata": {},
   "outputs": [
    {
     "name": "stdout",
     "output_type": "stream",
     "text": [
      "              precision    recall  f1-score   support\n",
      "\n",
      "           0       0.18      0.22      0.20         9\n",
      "           1       0.00      0.00      0.00         5\n",
      "           2       0.33      0.25      0.29        16\n",
      "           3       0.50      0.40      0.44        10\n",
      "           4       0.00      0.00      0.00         7\n",
      "           5       0.22      0.33      0.27         6\n",
      "           6       0.43      0.23      0.30        13\n",
      "           7       0.18      0.25      0.21         8\n",
      "           8       0.20      0.18      0.19        11\n",
      "           9       0.30      0.21      0.25        14\n",
      "\n",
      "    accuracy                           0.22        99\n",
      "   macro avg       0.23      0.21      0.21        99\n",
      "weighted avg       0.27      0.22      0.24        99\n",
      "\n",
      "              precision    recall  f1-score   support\n",
      "\n",
      "           0       0.18      0.22      0.20         9\n",
      "           1       0.00      0.00      0.00         5\n",
      "           2       0.33      0.25      0.29        16\n",
      "           3       0.50      0.40      0.44        10\n",
      "           4       0.00      0.00      0.00         7\n",
      "           5       0.22      0.33      0.27         6\n",
      "           6       0.43      0.23      0.30        13\n",
      "           7       0.18      0.25      0.21         8\n",
      "           8       0.20      0.18      0.19        11\n",
      "           9       0.30      0.21      0.25        14\n",
      "\n",
      "    accuracy                           0.22        99\n",
      "   macro avg       0.23      0.21      0.21        99\n",
      "weighted avg       0.27      0.22      0.24        99\n",
      "\n",
      "[0.0, 0.0] [0.7282608695652174, 0.7282608695652174]\n"
     ]
    },
    {
     "data": {
      "text/plain": [
       "Text(0.5, 0, 'Normalized?')"
      ]
     },
     "execution_count": 8,
     "metadata": {},
     "output_type": "execute_result"
    },
    {
     "data": {
      "image/png": "[encoded data removed]",
      "text/plain": [
       "<Figure size 640x480 with 1 Axes>"
      ]
     },
     "metadata": {},
     "output_type": "display_data"
    }
   ],
   "source": [
    "t_n_loss = []\n",
    "v_n_loss = []\n",
    "for t, v, test in [(X_train, X_val, X_test), normalize(X_train, X_val, X_test)]:\n",
    "    model = svm.SVC(kernel=\"linear\", decision_function_shape=\"ovo\", probability=True)\n",
    "    model.fit(t, y_train)\n",
    "    y_pred_train = model.predict(t)\n",
    "    t_n_loss.append(1 - accuracy_score(y_train, y_pred_train))\n",
    "    y_pred_val = model.predict(v)\n",
    "    v_n_loss.append(1 - accuracy_score(y_val, y_pred_val))\n",
    "    print(classification_report(y_test, model.predict(test)))\n",
    "\n",
    "fig, ax = plt.subplots()\n",
    "plt.plot(t_n_loss, label=\"Training Error\")\n",
    "plt.plot(v_n_loss, label=\"Validation Error\")\n",
    "plt.legend(loc=\"upper left\")\n",
    "ax.set_xticks(np.arange(0, 2))\n",
    "ax.set_xticklabels([\"Yes\", \"No\"])\n",
    "plt.title(\"Error and Normalization\")\n",
    "plt.ylabel(\"Error\")\n",
    "plt.xlabel(\"Normalized?\")"
   ]
  }
 ],
 "metadata": {
  "kernelspec": {
   "display_name": "ml",
   "language": "python",
   "name": "python3"
  },
  "language_info": {
   "codemirror_mode": {
    "name": "ipython",
    "version": 3
   },
   "file_extension": ".py",
   "mimetype": "text/x-python",
   "name": "python",
   "nbconvert_exporter": "python",
   "pygments_lexer": "ipython3",
   "version": "3.9.6"
  }
 },
 "nbformat": 4,
 "nbformat_minor": 2
}
